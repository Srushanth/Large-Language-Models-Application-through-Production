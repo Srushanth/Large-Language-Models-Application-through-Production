{
 "cells": [
  {
   "cell_type": "code",
   "execution_count": 1,
   "metadata": {},
   "outputs": [],
   "source": [
    "from datasets import load_dataset\n",
    "from transformers import pipeline"
   ]
  },
  {
   "cell_type": "code",
   "execution_count": 2,
   "metadata": {},
   "outputs": [
    {
     "data": {
      "text/plain": [
       "True"
      ]
     },
     "execution_count": 2,
     "metadata": {},
     "output_type": "execute_result"
    }
   ],
   "source": [
    "import os\n",
    "from dotenv import load_dotenv\n",
    "\n",
    "load_dotenv()"
   ]
  },
  {
   "cell_type": "code",
   "execution_count": 3,
   "metadata": {},
   "outputs": [
    {
     "data": {
      "text/plain": [
       "'~/Large-Language-Models-Application-through-Production/models/'"
      ]
     },
     "execution_count": 3,
     "metadata": {},
     "output_type": "execute_result"
    }
   ],
   "source": [
    "MODEL_DIR = os.getenv(\"MODEL_DIR_XSUM\")\n",
    "MODEL_DIR"
   ]
  },
  {
   "cell_type": "code",
   "execution_count": 4,
   "metadata": {},
   "outputs": [
    {
     "data": {
      "text/plain": [
       "'~/Large-Language-Models-Application-through-Production/data/'"
      ]
     },
     "execution_count": 4,
     "metadata": {},
     "output_type": "execute_result"
    }
   ],
   "source": [
    "DATA_DIR = os.getenv(\"DATA_DIR_XSUM\")\n",
    "DATA_DIR"
   ]
  },
  {
   "cell_type": "code",
   "execution_count": 5,
   "metadata": {},
   "outputs": [
    {
     "name": "stderr",
     "output_type": "stream",
     "text": [
      "/home/ubuntu/Large-Language-Models-Application-through-Production/.venv/lib/python3.11/site-packages/datasets/load.py:1429: FutureWarning: The repository for xsum contains custom code which must be executed to correctly load the dataset. You can inspect the repository content at https://hf.co/datasets/xsum\n",
      "You can avoid this message in future by passing the argument `trust_remote_code=True`.\n",
      "Passing `trust_remote_code=True` will be mandatory to load this dataset from the next major release of `datasets`.\n",
      "  warnings.warn(\n"
     ]
    },
    {
     "data": {
      "text/plain": [
       "DatasetDict({\n",
       "    train: Dataset({\n",
       "        features: ['document', 'summary', 'id'],\n",
       "        num_rows: 204045\n",
       "    })\n",
       "    validation: Dataset({\n",
       "        features: ['document', 'summary', 'id'],\n",
       "        num_rows: 11332\n",
       "    })\n",
       "    test: Dataset({\n",
       "        features: ['document', 'summary', 'id'],\n",
       "        num_rows: 11334\n",
       "    })\n",
       "})"
      ]
     },
     "execution_count": 5,
     "metadata": {},
     "output_type": "execute_result"
    }
   ],
   "source": [
    "xsum_dataset = load_dataset(\"xsum\", \n",
    "                            version=\"1.2.0\", \n",
    "                            cache_dir=DATA_DIR,    # Uses the pre-downloaded dataset if available else it will download the dataset to this directory.\n",
    "                            )\n",
    "xsum_dataset"
   ]
  },
  {
   "cell_type": "code",
   "execution_count": 6,
   "metadata": {},
   "outputs": [],
   "source": [
    "xsum_sample = xsum_dataset[\"train\"].select(range(10))"
   ]
  },
  {
   "cell_type": "code",
   "execution_count": 7,
   "metadata": {},
   "outputs": [],
   "source": [
    "from IPython.display import Markdown"
   ]
  },
  {
   "cell_type": "code",
   "execution_count": 8,
   "metadata": {},
   "outputs": [
    {
     "data": {
      "text/markdown": [
       "|    | document                                                                                                                                                                                                                                                                            | summary                                                                                                                                         |       id |\n",
       "|---:|:------------------------------------------------------------------------------------------------------------------------------------------------------------------------------------------------------------------------------------------------------------------------------------|:------------------------------------------------------------------------------------------------------------------------------------------------|---------:|\n",
       "|  0 | The full cost of damage in Newton Stewart, one of the areas worst affected, is still being assessed.                                                                                                                                                                                | Clean-up operations are continuing across the Scottish Borders and Dumfries and Galloway after flooding caused by Storm Frank.                  | 35232142 |\n",
       "|    | Repair work is ongoing in Hawick and many roads in Peeblesshire remain badly affected by standing water.                                                                                                                                                                            |                                                                                                                                                 |          |\n",
       "|    | Trains on the west coast mainline face disruption due to damage at the Lamington Viaduct.                                                                                                                                                                                           |                                                                                                                                                 |          |\n",
       "|    | Many businesses and householders were affected by flooding in Newton Stewart after the River Cree overflowed into the town.                                                                                                                                                         |                                                                                                                                                 |          |\n",
       "|    | First Minister Nicola Sturgeon visited the area to inspect the damage.                                                                                                                                                                                                              |                                                                                                                                                 |          |\n",
       "|    | The waters breached a retaining wall, flooding many commercial properties on Victoria Street - the main shopping thoroughfare.                                                                                                                                                      |                                                                                                                                                 |          |\n",
       "|    | Jeanette Tate, who owns the Cinnamon Cafe which was badly affected, said she could not fault the multi-agency response once the flood hit.                                                                                                                                          |                                                                                                                                                 |          |\n",
       "|    | However, she said more preventative work could have been carried out to ensure the retaining wall did not fail.                                                                                                                                                                     |                                                                                                                                                 |          |\n",
       "|    | \"It is difficult but I do think there is so much publicity for Dumfries and the Nith - and I totally appreciate that - but it is almost like we're neglected or forgotten,\" she said.                                                                                               |                                                                                                                                                 |          |\n",
       "|    | \"That may not be true but it is perhaps my perspective over the last few days.                                                                                                                                                                                                      |                                                                                                                                                 |          |\n",
       "|    | \"Why were you not ready to help us a bit more when the warning and the alarm alerts had gone out?\"                                                                                                                                                                                  |                                                                                                                                                 |          |\n",
       "|    | Meanwhile, a flood alert remains in place across the Borders because of the constant rain.                                                                                                                                                                                          |                                                                                                                                                 |          |\n",
       "|    | Peebles was badly hit by problems, sparking calls to introduce more defences in the area.                                                                                                                                                                                           |                                                                                                                                                 |          |\n",
       "|    | Scottish Borders Council has put a list on its website of the roads worst affected and drivers have been urged not to ignore closure signs.                                                                                                                                         |                                                                                                                                                 |          |\n",
       "|    | The Labour Party's deputy Scottish leader Alex Rowley was in Hawick on Monday to see the situation first hand.                                                                                                                                                                      |                                                                                                                                                 |          |\n",
       "|    | He said it was important to get the flood protection plan right but backed calls to speed up the process.                                                                                                                                                                           |                                                                                                                                                 |          |\n",
       "|    | \"I was quite taken aback by the amount of damage that has been done,\" he said.                                                                                                                                                                                                      |                                                                                                                                                 |          |\n",
       "|    | \"Obviously it is heart-breaking for people who have been forced out of their homes and the impact on businesses.\"                                                                                                                                                                   |                                                                                                                                                 |          |\n",
       "|    | He said it was important that \"immediate steps\" were taken to protect the areas most vulnerable and a clear timetable put in place for flood prevention plans.                                                                                                                      |                                                                                                                                                 |          |\n",
       "|    | Have you been affected by flooding in Dumfries and Galloway or the Borders? Tell us about your experience of the situation and how it was handled. Email us on selkirk.news@bbc.co.uk or dumfries@bbc.co.uk.                                                                        |                                                                                                                                                 |          |\n",
       "|  1 | A fire alarm went off at the Holiday Inn in Hope Street at about 04:20 BST on Saturday and guests were asked to leave the hotel.                                                                                                                                                    | Two tourist buses have been destroyed by fire in a suspected arson attack in Belfast city centre.                                               | 40143035 |\n",
       "|    | As they gathered outside they saw the two buses, parked side-by-side in the car park, engulfed by flames.                                                                                                                                                                           |                                                                                                                                                 |          |\n",
       "|    | One of the tour groups is from Germany, the other from China and Taiwan. It was their first night in Northern Ireland.                                                                                                                                                              |                                                                                                                                                 |          |\n",
       "|    | The driver of one of the buses said many of the passengers had left personal belongings on board and these had been destroyed.                                                                                                                                                      |                                                                                                                                                 |          |\n",
       "|    | Both groups have organised replacement coaches and will begin their tour of the north coast later than they had planned.                                                                                                                                                            |                                                                                                                                                 |          |\n",
       "|    | Police have appealed for information about the attack.                                                                                                                                                                                                                              |                                                                                                                                                 |          |\n",
       "|    | Insp David Gibson said: \"It appears as though the fire started under one of the buses before spreading to the second.                                                                                                                                                               |                                                                                                                                                 |          |\n",
       "|    | \"While the exact cause is still under investigation, it is thought that the fire was started deliberately.\"                                                                                                                                                                         |                                                                                                                                                 |          |\n",
       "|  2 | Ferrari appeared in a position to challenge until the final laps, when the Mercedes stretched their legs to go half a second clear of the red cars.                                                                                                                                 | Lewis Hamilton stormed to pole position at the Bahrain Grand Prix ahead of Mercedes team-mate Nico Rosberg.                                     | 35951548 |\n",
       "|    | Sebastian Vettel will start third ahead of team-mate Kimi Raikkonen.                                                                                                                                                                                                                |                                                                                                                                                 |          |\n",
       "|    | The world champion subsequently escaped punishment for reversing in the pit lane, which could have seen him stripped of pole.                                                                                                                                                       |                                                                                                                                                 |          |\n",
       "|    | But stewards only handed Hamilton a reprimand, after governing body the FIA said \"no clear instruction was given on where he should park\".                                                                                                                                          |                                                                                                                                                 |          |\n",
       "|    | Belgian Stoffel Vandoorne out-qualified McLaren team-mate Jenson Button on his Formula 1 debut.                                                                                                                                                                                     |                                                                                                                                                 |          |\n",
       "|    | Vandoorne was 12th and Button 14th, complaining of a handling imbalance on his final lap but admitting the newcomer \"did a good job and I didn't\".                                                                                                                                  |                                                                                                                                                 |          |\n",
       "|    | Mercedes were wary of Ferrari's pace before qualifying after Vettel and Raikkonen finished one-two in final practice, and their concerns appeared to be well founded as the red cars mixed it with the silver through most of qualifying.                                           |                                                                                                                                                 |          |\n",
       "|    | After the first runs, Rosberg was ahead, with Vettel and Raikkonen splitting him from Hamilton, who made a mistake at the final corner on his first lap.                                                                                                                            |                                                                                                                                                 |          |\n",
       "|    | But Hamilton saved his best for last, fastest in every sector of his final attempt, to beat Rosberg by just 0.077secs after the German had out-paced him throughout practice and in the first qualifying session.                                                                   |                                                                                                                                                 |          |\n",
       "|    | Vettel rued a mistake at the final corner on his last lap, but the truth is that with the gap at 0.517secs to Hamilton there was nothing he could have done.                                                                                                                        |                                                                                                                                                 |          |\n",
       "|    | The gap suggests Mercedes are favourites for the race, even if Ferrari can be expected to push them.                                                                                                                                                                                |                                                                                                                                                 |          |\n",
       "|    | Vettel said: \"Last year we were very strong in the race and I think we are in good shape for tomorrow. We will try to give them a hard time.\"                                                                                                                                       |                                                                                                                                                 |          |\n",
       "|    | Vandoorne's preparations for his grand prix debut were far from ideal - he only found out he was racing on Thursday when FIA doctors declared Fernando Alonso unfit because of a broken rib sustained in his huge crash at the first race of the season in Australia two weeks ago. |                                                                                                                                                 |          |\n",
       "|    | The Belgian rookie had to fly overnight from Japan, where he had been testing in the Super Formula car he races there, and arrived in Bahrain only hours before first practice on Friday.                                                                                           |                                                                                                                                                 |          |\n",
       "|    | He also had a difficult final practice, missing all but the final quarter of the session because of a water leak.                                                                                                                                                                   |                                                                                                                                                 |          |\n",
       "|    | Button was quicker in the first qualifying session, but Vandoorne pipped him by 0.064secs when it mattered.                                                                                                                                                                         |                                                                                                                                                 |          |\n",
       "|    | The 24-year-old said: \"I knew after yesterday I had quite similar pace to Jenson and I knew if I improved a little bit I could maybe challenge him and even out-qualify him and that is what has happened.                                                                          |                                                                                                                                                 |          |\n",
       "|    | \"Jenson is a very good benchmark for me because he is a world champion and he is well known to the team so I am very satisfied with the qualifying.\"                                                                                                                                |                                                                                                                                                 |          |\n",
       "|    | Button, who was 0.5secs quicker than Vandoorne in the first session, complained of oversteer on his final run in the second: \"Q1 was what I was expecting. Q2 he did a good job and I didn't. Very, very good job. We knew how quick he was.\"                                       |                                                                                                                                                 |          |\n",
       "|    | The controversial new elimination qualifying system was retained for this race despite teams voting at the first race in Australia to go back to the 2015 system.                                                                                                                   |                                                                                                                                                 |          |\n",
       "|    | FIA president Jean Todt said earlier on Saturday that he \"felt it necessary to give new qualifying one more chance\", adding: \"We live in a world where there is too much over reaction.\"                                                                                            |                                                                                                                                                 |          |\n",
       "|    | The system worked on the basis of mixing up the grid a little - Force India's Sergio Perez ended up out of position in 18th place after the team miscalculated the timing of his final run, leaving him not enough time to complete it before the elimination clock timed him out.  |                                                                                                                                                 |          |\n",
       "|    | But it will come in for more criticism as a result of lack of track action at the end of each session. There were three minutes at the end of the first session with no cars on the circuit, and the end of the second session was a similar damp squib.                            |                                                                                                                                                 |          |\n",
       "|    | Only one car - Nico Hulkenberg's Force India - was out on the track with six minutes to go. The two Williams cars did go out in the final three minutes but were already through to Q3 and so nothing was at stake.                                                                 |                                                                                                                                                 |          |\n",
       "|    | The teams are meeting with Todt and F1 commercial boss Bernie Ecclestone on Sunday at noon local time to decide on what to do with qualifying for the rest of the season.                                                                                                           |                                                                                                                                                 |          |\n",
       "|    | Todt said he was \"optimistic\" they would be able to reach unanimous agreement on a change.                                                                                                                                                                                          |                                                                                                                                                 |          |\n",
       "|    | \"We should listen to the people watching on TV,\" Rosberg said. \"If they are still unhappy, which I am sure they will be, we should change it.\"                                                                                                                                      |                                                                                                                                                 |          |\n",
       "|    | Red Bull's Daniel Ricciardo was fifth on the grid, ahead of the Williams cars of Valtteri Bottas and Felipe Massa and Force India's Nico Hulkenberg.                                                                                                                                |                                                                                                                                                 |          |\n",
       "|    | Ricciardo's team-mate Daniil Kvyat was eliminated during the second session - way below the team's expectation - and the Renault of Brit Jolyon Palmer only managed 19th fastest.                                                                                                   |                                                                                                                                                 |          |\n",
       "|    | German Mercedes protege Pascal Wehrlein managed an excellent 16th in the Manor car.                                                                                                                                                                                                 |                                                                                                                                                 |          |\n",
       "|    | Bahrain GP qualifying results                                                                                                                                                                                                                                                       |                                                                                                                                                 |          |\n",
       "|    | Bahrain GP coverage details                                                                                                                                                                                                                                                         |                                                                                                                                                 |          |\n",
       "|  3 | John Edward Bates, formerly of Spalding, Lincolnshire, but now living in London, faces a total of 22 charges, including two counts of indecency with a child.                                                                                                                       | A former Lincolnshire Police officer carried out a series of sex attacks on boys, a jury at Lincoln Crown Court was told.                       | 36266422 |\n",
       "|    | The 67-year-old is accused of committing the offences between March 1972 and October 1989.                                                                                                                                                                                          |                                                                                                                                                 |          |\n",
       "|    | Mr Bates denies all the charges.                                                                                                                                                                                                                                                    |                                                                                                                                                 |          |\n",
       "|    | Grace Hale, prosecuting, told the jury that the allegations of sexual abuse were made by made by four male complainants and related to when Mr Bates was a scout leader in South Lincolnshire and Cambridgeshire.                                                                   |                                                                                                                                                 |          |\n",
       "|    | \"The defendant says nothing of that sort happened between himself and all these individuals. He says they are all fabricating their accounts and telling lies,\" said Mrs Hale.                                                                                                      |                                                                                                                                                 |          |\n",
       "|    | The prosecutor claimed Mr Bates invited one 15 year old to his home offering him the chance to look at cine films made at scout camps but then showed him pornographic films.                                                                                                       |                                                                                                                                                 |          |\n",
       "|    | She told the jury that the boy was then sexually abused leaving him confused and frightened.                                                                                                                                                                                        |                                                                                                                                                 |          |\n",
       "|    | Mrs Hale said: \"The complainant's recollection is that on a number of occasions sexual acts would happen with the defendant either in the defendant's car or in his cottage.\"                                                                                                       |                                                                                                                                                 |          |\n",
       "|    | She told the jury a second boy was taken by Mr Bates for a weekend in London at the age of 13 or 14 and after visiting pubs he was later sexually abused.                                                                                                                           |                                                                                                                                                 |          |\n",
       "|    | Mrs Hale said two boys from the Spalding group had also made complaints of being sexually abused.                                                                                                                                                                                   |                                                                                                                                                 |          |\n",
       "|    | The jury has been told that Mr Bates was in the RAF before serving as a Lincolnshire Police officer between 1976 and 1983.                                                                                                                                                          |                                                                                                                                                 |          |\n",
       "|    | The trial, which is expected to last two weeks, continues.                                                                                                                                                                                                                          |                                                                                                                                                 |          |\n",
       "|  4 | Patients and staff were evacuated from Cerahpasa hospital on Wednesday after a man receiving treatment at the clinic threatened to shoot himself and others.                                                                                                                        | An armed man who locked himself into a room at a psychiatric hospital in Istanbul has ended his threat to kill himself, Turkish media report.   | 38826984 |\n",
       "|    | Officers were deployed to negotiate with the man, a young police officer.                                                                                                                                                                                                           |                                                                                                                                                 |          |\n",
       "|    | Earlier reports that the armed man had taken several people hostage proved incorrect.                                                                                                                                                                                               |                                                                                                                                                 |          |\n",
       "|    | The chief consultant of Cerahpasa hospital, Zekayi Kutlubay, who was evacuated from the facility, said that there had been \"no hostage crises\", adding that the man was \"alone in the room\".                                                                                        |                                                                                                                                                 |          |\n",
       "|    | Dr Kutlubay said that the man had been receiving psychiatric treatment for the past two years.                                                                                                                                                                                      |                                                                                                                                                 |          |\n",
       "|    | He said that the hospital had previously submitted a report stating that the man should not be permitted to carry a gun.                                                                                                                                                            |                                                                                                                                                 |          |\n",
       "|    | \"His firearm was taken away,\" Dr Kutlubay said, adding that the gun in the officer's possession on Wednesday was not his issued firearm.                                                                                                                                            |                                                                                                                                                 |          |\n",
       "|    | The incident comes amid tension in Istanbul following several attacks in crowded areas, including the deadly assault on the Reina nightclub on New Year's Eve which left 39 people dead.                                                                                            |                                                                                                                                                 |          |\n",
       "|  5 | Simone Favaro got the crucial try with the last move of the game, following earlier touchdowns by Chris Fusaro, Zander Fagerson and Junior Bulumakau.                                                                                                                               | Defending Pro12 champions Glasgow Warriors bagged a late bonus-point victory over the Dragons despite a host of absentees and two yellow cards. | 34540833 |\n",
       "|    | Rynard Landman and Ashton Hewitt got a try in either half for the Dragons.                                                                                                                                                                                                          |                                                                                                                                                 |          |\n",
       "|    | Glasgow showed far superior strength in depth as they took control of a messy match in the second period.                                                                                                                                                                           |                                                                                                                                                 |          |\n",
       "|    | Home coach Gregor Townsend gave a debut to powerhouse Fijian-born Wallaby wing Taqele Naiyaravoro, and centre Alex Dunbar returned from long-term injury, while the Dragons gave first starts of the season to wing Aled Brew and hooker Elliot Dee.                                |                                                                                                                                                 |          |\n",
       "|    | Glasgow lost hooker Pat McArthur to an early shoulder injury but took advantage of their first pressure when Rory Clegg slotted over a penalty on 12 minutes.                                                                                                                       |                                                                                                                                                 |          |\n",
       "|    | It took 24 minutes for a disjointed game to produce a try as Sarel Pretorius sniped from close range and Landman forced his way over for Jason Tovey to convert - although it was the lock's last contribution as he departed with a chest injury shortly afterwards.               |                                                                                                                                                 |          |\n",
       "|    | Glasgow struck back when Fusaro drove over from a rolling maul on 35 minutes for Clegg to convert.                                                                                                                                                                                  |                                                                                                                                                 |          |\n",
       "|    | But the Dragons levelled at 10-10 before half-time when Naiyaravoro was yellow-carded for an aerial tackle on Brew and Tovey slotted the easy goal.                                                                                                                                 |                                                                                                                                                 |          |\n",
       "|    | The visitors could not make the most of their one-man advantage after the break as their error count cost them dearly.                                                                                                                                                              |                                                                                                                                                 |          |\n",
       "|    | It was Glasgow's bench experience that showed when Mike Blair's break led to a short-range score from teenage prop Fagerson, converted by Clegg.                                                                                                                                    |                                                                                                                                                 |          |\n",
       "|    | Debutant Favaro was the second home player to be sin-binned, on 63 minutes, but again the Warriors made light of it as replacement wing Bulumakau, a recruit from the Army, pounced to deftly hack through a bouncing ball for an opportunist try.                                  |                                                                                                                                                 |          |\n",
       "|    | The Dragons got back within striking range with some excellent combined handling putting Hewitt over unopposed after 72 minutes.                                                                                                                                                    |                                                                                                                                                 |          |\n",
       "|    | However, Favaro became sinner-turned-saint as he got on the end of another effective rolling maul to earn his side the extra point with the last move of the game, Clegg converting.                                                                                                |                                                                                                                                                 |          |\n",
       "|    | Dragons director of rugby Lyn Jones said: \"We're disappointed to have lost but our performance was a lot better [than against Leinster] and the game could have gone either way.                                                                                                    |                                                                                                                                                 |          |\n",
       "|    | \"Unfortunately too many errors behind the scrum cost us a great deal, though from where we were a fortnight ago in Dublin our workrate and desire was excellent.                                                                                                                    |                                                                                                                                                 |          |\n",
       "|    | \"It was simply error count from individuals behind the scrum that cost us field position, it's not rocket science - they were correct in how they played and we had a few errors, that was the difference.\"                                                                         |                                                                                                                                                 |          |\n",
       "|    | Glasgow Warriors: Rory Hughes, Taqele Naiyaravoro, Alex Dunbar, Fraser Lyle, Lee Jones, Rory Clegg, Grayson Hart; Alex Allan, Pat MacArthur, Zander Fagerson, Rob Harley (capt), Scott Cummings, Hugh Blake, Chris Fusaro, Adam Ashe.                                               |                                                                                                                                                 |          |\n",
       "|    | Replacements: Fergus Scott, Jerry Yanuyanutawa, Mike Cusack, Greg Peterson, Simone Favaro, Mike Blair, Gregor Hunter, Junior Bulumakau.                                                                                                                                             |                                                                                                                                                 |          |\n",
       "|    | Dragons: Carl Meyer, Ashton Hewitt, Ross Wardle, Adam Warren, Aled Brew, Jason Tovey, Sarel Pretorius; Boris Stankovich, Elliot Dee, Brok Harris, Nick Crosswell, Rynard Landman (capt), Lewis Evans, Nic Cudd, Ed Jackson.                                                         |                                                                                                                                                 |          |\n",
       "|    | Replacements: Rhys Buckley, Phil Price, Shaun Knight, Matthew Screech, Ollie Griffiths, Luc Jones, Charlie Davies, Nick Scott.                                                                                                                                                      |                                                                                                                                                 |          |\n",
       "|  6 | Veronica Vanessa Chango-Alverez, 31, was killed and another man injured when an Audi A3 struck them in Streatham High Road at 05:30 GMT on Saturday.                                                                                                                                | A man with links to a car that was involved in a fatal bus stop crash in south London is being sought by police.                                | 20836172 |\n",
       "|    | Ten minutes before the crash the car was in London Road, Croydon, when a Volkswagen Passat collided with a tree.                                                                                                                                                                    |                                                                                                                                                 |          |\n",
       "|    | Police want to trace Nathan Davis, 27, who they say has links to the Audi. The car was abandoned at the scene.                                                                                                                                                                      |                                                                                                                                                 |          |\n",
       "|    | Ms Chango-Alverez died from multiple injuries, a post-mortem examination found.                                                                                                                                                                                                     |                                                                                                                                                 |          |\n",
       "|    | No arrests have been made as yet, police said.                                                                                                                                                                                                                                      |                                                                                                                                                 |          |\n",
       "|    | Ms Chango-Alverez was staying at her mother's home in Streatham High Road.                                                                                                                                                                                                          |                                                                                                                                                 |          |\n",
       "|    | She was born in Ecuador and had lived in London for 13 years, BBC London reporter Gareth Furby said. At the time of the crash, she was on her way to work in a hotel.                                                                                                               |                                                                                                                                                 |          |\n",
       "|    | The remains of the bus stop, which was extensively damaged in the crash, have been removed.                                                                                                                                                                                         |                                                                                                                                                 |          |\n",
       "|    | Flowers have been left at the site in tribute to the victim.                                                                                                                                                                                                                        |                                                                                                                                                 |          |\n",
       "|    | A statement from her brother Kevin Raul Chango-Alverez said: \"My family has had its heart torn out, at this Christmas time, we will never be the same again.                                                                                                                        |                                                                                                                                                 |          |\n",
       "|    | \"On Friday night we were together as a family with Veronica meeting her newly born nephew and preparing for Christmas.                                                                                                                                                              |                                                                                                                                                 |          |\n",
       "|    | \"I last saw her alive as she left to go to work on Saturday morning, but moments later I was holding her hand as she passed away in the street.\"                                                                                                                                    |                                                                                                                                                 |          |\n",
       "|    | Describing the crash as \"horrific\" Det Insp Gordon Wallace, said: \"The family are devastated. The memory of this senseless death will be with them each time they leave their home.                                                                                                 |                                                                                                                                                 |          |\n",
       "|    | \"The driver fled the scene abandoning the grey Audi, which was extensively damaged.                                                                                                                                                                                                 |                                                                                                                                                 |          |\n",
       "|    | \"We are looking to speak to Mr Nathan Davis in relation to this collision.\"                                                                                                                                                                                                         |                                                                                                                                                 |          |\n",
       "|    | The 51-year-old man injured at the bus stop remains in a critical condition in hospital while the condition of the 29-year-old driver of the Volkswagen is now stable.                                                                                                              |                                                                                                                                                 |          |\n",
       "|  7 | Belgian cyclist Demoitie died after a collision with a motorbike during Belgium's Gent-Wevelgem race.                                                                                                                                                                               | Welsh cyclist Luke Rowe says changes to the sport must be made following the death of Antoine Demoitie.                                         | 35932467 |\n",
       "|    | The 25-year-old was hit by the motorbike after several riders came down in a crash as the race passed through northern France.                                                                                                                                                      |                                                                                                                                                 |          |\n",
       "|    | \"The main issues come when cars or motorbikes have to pass the peloton and pass riders,\" Team Sky's Rowe said.                                                                                                                                                                      |                                                                                                                                                 |          |\n",
       "|    | \"That is the fundamental issue we're looking into.                                                                                                                                                                                                                                  |                                                                                                                                                 |          |\n",
       "|    | \"There's a lot of motorbikes in and around the race whether it be cameras for TV, photographers or police motorbikes.                                                                                                                                                               |                                                                                                                                                 |          |\n",
       "|    | \"In total there's around 50 motorbikes that work on each race.                                                                                                                                                                                                                      |                                                                                                                                                 |          |\n",
       "|    | \"We've got a riders union and we're coming together to think of a few ideas, whether we cap a speed limit on how fast they can overtake us.                                                                                                                                         |                                                                                                                                                 |          |\n",
       "|    | \"Say we put a 10 kilometres per hour limit on it, if we're going 50kph they're only allowed to pass us 60kph or something like that.\"                                                                                                                                               |                                                                                                                                                 |          |\n",
       "|    | Demoitie, who was riding for the Wanty-Gobert team, was taken to hospital in Lille but died later.                                                                                                                                                                                  |                                                                                                                                                 |          |\n",
       "|    | The sport's governing body, the UCI, said it would co-operate with all relevant authorities in an investigation into the incident.                                                                                                                                                  |                                                                                                                                                 |          |\n",
       "|    | The Professional Cyclists' Association (CPA) issued a statement asking what would be done to improve safety.                                                                                                                                                                        |                                                                                                                                                 |          |\n",
       "|    | Despite Demoitie's death, attitudes to road racing will stay the same says Rowe, who has been competing in Three Days of De Panne race in Belgium.                                                                                                                                  |                                                                                                                                                 |          |\n",
       "|    | \"As soon as that element of fear slips into your mind and you start thinking of things that could happen, that's when you're doomed to fail,\" he told BBC Wales Sport.                                                                                                              |                                                                                                                                                 |          |\n",
       "|    | \"If you start thinking about crashes and the consequences and what could potentially happen then you're never going to be at the front of the peloton and you're never going to win any races.\"                                                                                     |                                                                                                                                                 |          |\n",
       "|    | In a separate incident, another Belgian cyclist, Daan Myngheer, 22, died in hospital after suffering a heart attack during the first stage of the Criterium International in Corsica.                                                                                               |                                                                                                                                                 |          |\n",
       "|  8 | Gundogan, 26, told BBC Sport he \"can see the finishing line\" after tearing cruciate knee ligaments in December, but will not rush his return.                                                                                                                                       | Manchester City midfielder Ilkay Gundogan says it has been mentally tough to overcome a third major injury.                                     | 40758845 |\n",
       "|    | The German missed the 2014 World Cup following back surgery that kept him out for a year, and sat out Euro 2016 because of a dislocated kneecap.                                                                                                                                    |                                                                                                                                                 |          |\n",
       "|    | He said: \"It is heavy mentally to accept that.\"                                                                                                                                                                                                                                     |                                                                                                                                                 |          |\n",
       "|    | Gundogan will not be fit for the start of the Premier League season at Brighton on 12 August but said his recovery time is now being measured in \"weeks\" rather than months.                                                                                                        |                                                                                                                                                 |          |\n",
       "|    | He told BBC Sport: \"It is really hard always to fall and fight your way back. You feel good and feel ready, then you get the next kick.                                                                                                                                             |                                                                                                                                                 |          |\n",
       "|    | \"The worst part is behind me now. I want to feel ready when I am fully back. I want to feel safe and confident. I don't mind if it is two weeks or six.\"                                                                                                                            |                                                                                                                                                 |          |\n",
       "|    | Gundogan made 15 appearances and scored five goals in his debut season for City following his £20m move from Borussia Dortmund.                                                                                                                                                     |                                                                                                                                                 |          |\n",
       "|    | He is eager to get on the field again and was impressed at the club's 4-1 win over Real Madrid in a pre-season game in Los Angeles on Wednesday.                                                                                                                                    |                                                                                                                                                 |          |\n",
       "|    | Manager Pep Guardiola has made five new signings already this summer and continues to have an interest in Arsenal forward Alexis Sanchez and Monaco's Kylian Mbappe.                                                                                                                |                                                                                                                                                 |          |\n",
       "|    | Gundogan said: \"Optimism for the season is big. It is huge, definitely.                                                                                                                                                                                                             |                                                                                                                                                 |          |\n",
       "|    | \"We felt that last year as well but it was a completely new experience for all of us. We know the Premier League a bit more now and can't wait for the season to start.\"                                                                                                            |                                                                                                                                                 |          |\n",
       "|    | City complete their three-match tour of the United States against Tottenham in Nashville on Saturday.                                                                                                                                                                               |                                                                                                                                                 |          |\n",
       "|    | Chelsea manager Antonio Conte said earlier this week he did not feel Tottenham were judged by the same standards as his own side, City and Manchester United.                                                                                                                       |                                                                                                                                                 |          |\n",
       "|    | Spurs have had the advantage in their recent meetings with City, winning three and drawing one of their last four Premier League games.                                                                                                                                             |                                                                                                                                                 |          |\n",
       "|    | And Gundogan thinks they are a major threat.                                                                                                                                                                                                                                        |                                                                                                                                                 |          |\n",
       "|    | He said: \"Tottenham are a great team. They have the style of football. They have young English players. Our experience last season shows it is really tough to beat them.                                                                                                           |                                                                                                                                                 |          |\n",
       "|    | \"They are really uncomfortable to play against.                                                                                                                                                                                                                                     |                                                                                                                                                 |          |\n",
       "|    | \"I am pretty sure, even if they will not say it loud, the people who know the Premier League know Tottenham are definitely a competitor for the title.\"                                                                                                                             |                                                                                                                                                 |          |\n",
       "|  9 | The crash happened about 07:20 GMT at the junction of the A127 and Progress Road in Leigh-on-Sea, Essex.                                                                                                                                                                            | A jogger has been hit by an unmarked police car responding to an emergency call, leaving him with \"serious life-changing injuries\".             | 30358490 |\n",
       "|    | The man, who police said is aged in his 20s, was treated at the scene for a head injury and suspected multiple fractures, the ambulance service said.                                                                                                                               |                                                                                                                                                 |          |\n",
       "|    | He was airlifted to the Royal London Hospital for further treatment.                                                                                                                                                                                                                |                                                                                                                                                 |          |\n",
       "|    | The Southend-bound carriageway of the A127 was closed for about six hours while police conducted their initial inquiries.                                                                                                                                                           |                                                                                                                                                 |          |\n",
       "|    | A spokeswoman for Essex Police said it was not possible comment to further as this time as the \"investigation is now being conducted by the IPCC\".                                                                                                                                  |                                                                                                                                                 |          |"
      ],
      "text/plain": [
       "<IPython.core.display.Markdown object>"
      ]
     },
     "execution_count": 8,
     "metadata": {},
     "output_type": "execute_result"
    }
   ],
   "source": [
    "Markdown(xsum_sample.to_pandas().to_markdown())"
   ]
  },
  {
   "cell_type": "code",
   "execution_count": 9,
   "metadata": {},
   "outputs": [],
   "source": [
    "from huggingface_hub._login import _login"
   ]
  },
  {
   "cell_type": "code",
   "execution_count": 10,
   "metadata": {},
   "outputs": [],
   "source": [
    "ACCESS_TOKEN_HUGGING_FACE = os.getenv(\"ACCESS_TOKEN_HUGGING_FACE\")"
   ]
  },
  {
   "cell_type": "code",
   "execution_count": 11,
   "metadata": {},
   "outputs": [
    {
     "name": "stdout",
     "output_type": "stream",
     "text": [
      "Token is valid (permission: write).\n",
      "Your token has been saved to /home/ubuntu/.cache/huggingface/token\n",
      "Login successful\n"
     ]
    }
   ],
   "source": [
    "_login(token=ACCESS_TOKEN_HUGGING_FACE, add_to_git_credential=False)"
   ]
  },
  {
   "cell_type": "code",
   "execution_count": 12,
   "metadata": {},
   "outputs": [
    {
     "data": {
      "application/vnd.jupyter.widget-view+json": {
       "model_id": "07beb5b08e494ec5b975b41145ccf9e0",
       "version_major": 2,
       "version_minor": 0
      },
      "text/plain": [
       "config.json:   0%|          | 0.00/1.80k [00:00<?, ?B/s]"
      ]
     },
     "metadata": {},
     "output_type": "display_data"
    },
    {
     "data": {
      "application/vnd.jupyter.widget-view+json": {
       "model_id": "4864c7d401b14a959af096966eb782f0",
       "version_major": 2,
       "version_minor": 0
      },
      "text/plain": [
       "pytorch_model.bin:   0%|          | 0.00/1.22G [00:00<?, ?B/s]"
      ]
     },
     "metadata": {},
     "output_type": "display_data"
    },
    {
     "data": {
      "application/vnd.jupyter.widget-view+json": {
       "model_id": "361fc619b14c4fc0becb03e2167d9262",
       "version_major": 2,
       "version_minor": 0
      },
      "text/plain": [
       "tokenizer_config.json:   0%|          | 0.00/26.0 [00:00<?, ?B/s]"
      ]
     },
     "metadata": {},
     "output_type": "display_data"
    },
    {
     "data": {
      "application/vnd.jupyter.widget-view+json": {
       "model_id": "087cc838ec24434b85d448c3b28111f7",
       "version_major": 2,
       "version_minor": 0
      },
      "text/plain": [
       "vocab.json:   0%|          | 0.00/899k [00:00<?, ?B/s]"
      ]
     },
     "metadata": {},
     "output_type": "display_data"
    },
    {
     "data": {
      "application/vnd.jupyter.widget-view+json": {
       "model_id": "72a870bb537d47999d370f97afb03c54",
       "version_major": 2,
       "version_minor": 0
      },
      "text/plain": [
       "merges.txt:   0%|          | 0.00/456k [00:00<?, ?B/s]"
      ]
     },
     "metadata": {},
     "output_type": "display_data"
    }
   ],
   "source": [
    "summarizer = pipeline(task=\"summarization\", \n",
    "                      model_kwargs={\"cache_dir\": \"../models/sshleifer/distilbart-cnn-12-6/\"}, \n",
    "                      model=\"sshleifer/distilbart-cnn-12-6\"\n",
    "                      )"
   ]
  },
  {
   "cell_type": "code",
   "execution_count": 13,
   "metadata": {},
   "outputs": [],
   "source": [
    "summarizer.save_pretrained(\"../models/sshleifer/distilbart-cnn-12-6/\")"
   ]
  },
  {
   "cell_type": "code",
   "execution_count": 14,
   "metadata": {},
   "outputs": [
    {
     "data": {
      "text/plain": [
       "'~/Large-Language-Models-Application-through-Production/models/'"
      ]
     },
     "execution_count": 14,
     "metadata": {},
     "output_type": "execute_result"
    }
   ],
   "source": [
    "MODEL_DIR"
   ]
  },
  {
   "cell_type": "code",
   "execution_count": 15,
   "metadata": {},
   "outputs": [],
   "source": [
    "summarizer = pipeline(task=\"summarization\", \n",
    "                      model=\"../models/sshleifer/distilbart-cnn-12-6/\"\n",
    "                      )"
   ]
  },
  {
   "cell_type": "code",
   "execution_count": 16,
   "metadata": {},
   "outputs": [
    {
     "data": {
      "text/plain": [
       "<transformers.pipelines.text2text_generation.SummarizationPipeline at 0x7f4d8928b550>"
      ]
     },
     "execution_count": 16,
     "metadata": {},
     "output_type": "execute_result"
    }
   ],
   "source": [
    "summarizer"
   ]
  },
  {
   "cell_type": "code",
   "execution_count": 17,
   "metadata": {},
   "outputs": [
    {
     "data": {
      "text/plain": [
       "Dataset({\n",
       "    features: ['document', 'summary', 'id'],\n",
       "    num_rows: 10\n",
       "})"
      ]
     },
     "execution_count": 17,
     "metadata": {},
     "output_type": "execute_result"
    }
   ],
   "source": [
    "xsum_sample"
   ]
  },
  {
   "cell_type": "code",
   "execution_count": 18,
   "metadata": {
    "notebookRunGroups": {
     "groupValue": ""
    }
   },
   "outputs": [
    {
     "data": {
      "text/plain": [
       "[{'summary_text': ' First Minister Nicola Sturgeon visited the area to inspect the damage . Many businesses and householders were affected by flooding in Newton Stewart . Many roads in Peeblesshire remain badly affected by standing water . Flood alert remains in place across the Borders because of the constant rain . Peebles was badly hit by problems, sparking calls to introduce more defences .'}]"
      ]
     },
     "execution_count": 18,
     "metadata": {},
     "output_type": "execute_result"
    }
   ],
   "source": [
    "summarizer(xsum_sample[\"document\"][0])"
   ]
  },
  {
   "cell_type": "code",
   "execution_count": 19,
   "metadata": {
    "notebookRunGroups": {
     "groupValue": ""
    }
   },
   "outputs": [
    {
     "data": {
      "text/plain": [
       "'The full cost of damage in Newton Stewart, one of the areas worst affected, is still being assessed.\\nRepair work is ongoing in Hawick and many roads in Peeblesshire remain badly affected by standing water.\\nTrains on the west coast mainline face disruption due to damage at the Lamington Viaduct.\\nMany businesses and householders were affected by flooding in Newton Stewart after the River Cree overflowed into the town.\\nFirst Minister Nicola Sturgeon visited the area to inspect the damage.\\nThe waters breached a retaining wall, flooding many commercial properties on Victoria Street - the main shopping thoroughfare.\\nJeanette Tate, who owns the Cinnamon Cafe which was badly affected, said she could not fault the multi-agency response once the flood hit.\\nHowever, she said more preventative work could have been carried out to ensure the retaining wall did not fail.\\n\"It is difficult but I do think there is so much publicity for Dumfries and the Nith - and I totally appreciate that - but it is almost like we\\'re neglected or forgotten,\" she said.\\n\"That may not be true but it is perhaps my perspective over the last few days.\\n\"Why were you not ready to help us a bit more when the warning and the alarm alerts had gone out?\"\\nMeanwhile, a flood alert remains in place across the Borders because of the constant rain.\\nPeebles was badly hit by problems, sparking calls to introduce more defences in the area.\\nScottish Borders Council has put a list on its website of the roads worst affected and drivers have been urged not to ignore closure signs.\\nThe Labour Party\\'s deputy Scottish leader Alex Rowley was in Hawick on Monday to see the situation first hand.\\nHe said it was important to get the flood protection plan right but backed calls to speed up the process.\\n\"I was quite taken aback by the amount of damage that has been done,\" he said.\\n\"Obviously it is heart-breaking for people who have been forced out of their homes and the impact on businesses.\"\\nHe said it was important that \"immediate steps\" were taken to protect the areas most vulnerable and a clear timetable put in place for flood prevention plans.\\nHave you been affected by flooding in Dumfries and Galloway or the Borders? Tell us about your experience of the situation and how it was handled. Email us on selkirk.news@bbc.co.uk or dumfries@bbc.co.uk.'"
      ]
     },
     "execution_count": 19,
     "metadata": {},
     "output_type": "execute_result"
    }
   ],
   "source": [
    "xsum_sample[\"document\"][0]"
   ]
  },
  {
   "cell_type": "code",
   "execution_count": null,
   "metadata": {},
   "outputs": [],
   "source": []
  }
 ],
 "metadata": {
  "kernelspec": {
   "display_name": "Python 3",
   "language": "python",
   "name": "python3"
  },
  "language_info": {
   "codemirror_mode": {
    "name": "ipython",
    "version": 3
   },
   "file_extension": ".py",
   "mimetype": "text/x-python",
   "name": "python",
   "nbconvert_exporter": "python",
   "pygments_lexer": "ipython3",
   "version": "3.11.0"
  }
 },
 "nbformat": 4,
 "nbformat_minor": 2
}
